{
 "cells": [
  {
   "cell_type": "code",
   "execution_count": 1,
   "metadata": {},
   "outputs": [
    {
     "name": "stderr",
     "output_type": "stream",
     "text": [
      "/Users/kexunz/miniconda3/envs/lcbcpp/lib/python3.10/site-packages/tqdm/auto.py:21: TqdmWarning: IProgress not found. Please update jupyter and ipywidgets. See https://ipywidgets.readthedocs.io/en/stable/user_install.html\n",
      "  from .autonotebook import tqdm as notebook_tqdm\n"
     ]
    },
    {
     "name": "stdout",
     "output_type": "stream",
     "text": [
      "Loaded 400 problems\n"
     ]
    }
   ],
   "source": [
    "from lcb_runner.benchmarks import load_code_generation_dataset\n",
    "\n",
    "ds = load_code_generation_dataset()"
   ]
  },
  {
   "cell_type": "code",
   "execution_count": 2,
   "metadata": {},
   "outputs": [
    {
     "data": {
      "text/plain": [
       "'codeforces'"
      ]
     },
     "execution_count": 2,
     "metadata": {},
     "output_type": "execute_result"
    }
   ],
   "source": [
    "ds[0].platform.value"
   ]
  },
  {
   "cell_type": "code",
   "execution_count": 3,
   "metadata": {},
   "outputs": [
    {
     "data": {
      "text/plain": [
       "210"
      ]
     },
     "execution_count": 3,
     "metadata": {},
     "output_type": "execute_result"
    }
   ],
   "source": [
    "atcoder_problems = [p for p in ds if p.platform.value == \"atcoder\"]\n",
    "len(atcoder_problems)"
   ]
  },
  {
   "cell_type": "code",
   "execution_count": 4,
   "metadata": {},
   "outputs": [
    {
     "name": "stdout",
     "output_type": "stream",
     "text": [
      "[Test(input='5\\nTTAAT\\n', output='T\\n', testtype=<TestType.STDIN: 'stdin'>), Test(input='6\\nATTATA\\n', output='T\\n', testtype=<TestType.STDIN: 'stdin'>), Test(input='1\\nA\\n', output='A\\n', testtype=<TestType.STDIN: 'stdin'>)]\n",
      "[Test(input='90\\nATTTTATATATTATTAATATATTAATTATTAAATTAAATTATTTATTAATAAAAATATTATTTTAATAAAAATTAAAAAAAATATTTTTT\\n', output='A\\n', testtype=<TestType.STDIN: 'stdin'>), Test(input='91\\nAAAAAAAAAAAAAAAAAAAAAAAAAAAAAAAAAAAAAAAAAAAAAAAAAAAAAAAAAAAAAAAAAAAAAAAAAAAAAAAAAAAAAAAAAAA\\n', output='A\\n', testtype=<TestType.STDIN: 'stdin'>), Test(input='92\\nAATAAAAAAATATAAAAAAAAATAAAAAAATAAATAAAAAAAAAAAAAAAAATAAAAAAAAAATAAAAAATAAAATAAAATAAAAAATATAA\\n', output='A\\n', testtype=<TestType.STDIN: 'stdin'>), Test(input='92\\nATTTAAATTTTAAAAATAAATTTAAAATTAAAATTAAAAATAATTTTAATTTATATTTATTTAATTTTATAAATAATTTTTATATAATATTA\\n', output='T\\n', testtype=<TestType.STDIN: 'stdin'>), Test(input='92\\nATTTTTATTTTTATTATTTTAATATTTAAATTAATTTATTAAATTTTATTTTAAATATATTTAAATAATATTATTAAATTAATATTTAAATA\\n', output='T\\n', testtype=<TestType.STDIN: 'stdin'>), Test(input='92\\nATATTTAAATAATTTTATTAATTATTTAATATTTTTATTATTTAATTTAATTTAAATATATAATATAAAAAATTATAAATTATAAAATAAAT\\n', output='A\\n', testtype=<TestType.STDIN: 'stdin'>), Test(input='93\\nTTAAAATTTTATAATAAAAAAAATAATAAATTTTATTTAATAATAAATAAAAAAAAAAAATTTTTATTATATTTATATTTTTAAAAATTATAA\\n', output='A\\n', testtype=<TestType.STDIN: 'stdin'>), Test(input='93\\nTTTATTATTATATTTTTATATTTTATTTTTTAAATTTTATAATTTTTATTTTTTATTTATATTTATTTAAATTTTATATTTATTATATTTTTA\\n', output='T\\n', testtype=<TestType.STDIN: 'stdin'>), Test(input='96\\nTTTTTTTTTTTTTTTTTTTTTTTTTTTTTTTTTTTTTTTTTTTTTTTTTTTTTTTTTTTTTTTTTTTTTTTTTTTTTTTTTTTTTTTTTTTTTTTT\\n', output='T\\n', testtype=<TestType.STDIN: 'stdin'>), Test(input='97\\nTTTTTTTTTATTTATTTTTTTATTTTTTTTTATTAAATTTATTTTTTTTTTTTTATTTTTTTATTTTTAATTTTTTTTTATTTTTTATTTTTTTTTT\\n', output='T\\n', testtype=<TestType.STDIN: 'stdin'>), Test(input='98\\nTTAATATTATATAATTAAAATAATTTATATAAATTAATAATTATTTATAATATATAATAAATAATAATTTATAATAATTTTTATATTTATTATAATTA\\n', output='T\\n', testtype=<TestType.STDIN: 'stdin'>), Test(input='100\\nAAAAAAAAAAAAAAAAAAAAAAAATTTAAAAATATTATAAAATATAATAATTAAAAAAAAATATTTATTTATAAAATATAAAATAATTAAATATATAATA\\n', output='A\\n', testtype=<TestType.STDIN: 'stdin'>)]\n"
     ]
    }
   ],
   "source": [
    "print(atcoder_problems[0].public_test_cases)\n",
    "print(atcoder_problems[0].private_test_cases)"
   ]
  },
  {
   "cell_type": "code",
   "execution_count": 5,
   "metadata": {},
   "outputs": [],
   "source": [
    "test_cases = atcoder_problems[0].public_test_cases + atcoder_problems[0].private_test_cases\n",
    "\n",
    "inputs = [c.input for c in test_cases]\n",
    "outputs = [c.output for c in test_cases]"
   ]
  },
  {
   "cell_type": "code",
   "execution_count": 6,
   "metadata": {},
   "outputs": [],
   "source": [
    "from eval_cpp import eval_stdin_stdout"
   ]
  },
  {
   "cell_type": "code",
   "execution_count": 7,
   "metadata": {},
   "outputs": [
    {
     "data": {
      "text/plain": [
       "(True,\n",
       " [{'status': 'Passed',\n",
       "   'exit_code': 0,\n",
       "   'stdin': '5\\nTTAAT\\n',\n",
       "   'stdout': 'T\\n',\n",
       "   'stderr': ''},\n",
       "  {'status': 'Passed',\n",
       "   'exit_code': 0,\n",
       "   'stdin': '6\\nATTATA\\n',\n",
       "   'stdout': 'T\\n',\n",
       "   'stderr': ''},\n",
       "  {'status': 'Passed',\n",
       "   'exit_code': 0,\n",
       "   'stdin': '1\\nA\\n',\n",
       "   'stdout': 'A\\n',\n",
       "   'stderr': ''},\n",
       "  {'status': 'Passed',\n",
       "   'exit_code': 0,\n",
       "   'stdin': '90\\nATTTTATATATTATTAATATATTAATTATTAAATTAAATTATTTATTAATAAAAATATTATTTTAATAAAAATTAAAAAAAATATTTTTT\\n',\n",
       "   'stdout': 'A\\n',\n",
       "   'stderr': ''},\n",
       "  {'status': 'Passed',\n",
       "   'exit_code': 0,\n",
       "   'stdin': '91\\nAAAAAAAAAAAAAAAAAAAAAAAAAAAAAAAAAAAAAAAAAAAAAAAAAAAAAAAAAAAAAAAAAAAAAAAAAAAAAAAAAAAAAAAAAAA\\n',\n",
       "   'stdout': 'A\\n',\n",
       "   'stderr': ''},\n",
       "  {'status': 'Passed',\n",
       "   'exit_code': 0,\n",
       "   'stdin': '92\\nAATAAAAAAATATAAAAAAAAATAAAAAAATAAATAAAAAAAAAAAAAAAAATAAAAAAAAAATAAAAAATAAAATAAAATAAAAAATATAA\\n',\n",
       "   'stdout': 'A\\n',\n",
       "   'stderr': ''},\n",
       "  {'status': 'Passed',\n",
       "   'exit_code': 0,\n",
       "   'stdin': '92\\nATTTAAATTTTAAAAATAAATTTAAAATTAAAATTAAAAATAATTTTAATTTATATTTATTTAATTTTATAAATAATTTTTATATAATATTA\\n',\n",
       "   'stdout': 'T\\n',\n",
       "   'stderr': ''},\n",
       "  {'status': 'Passed',\n",
       "   'exit_code': 0,\n",
       "   'stdin': '92\\nATTTTTATTTTTATTATTTTAATATTTAAATTAATTTATTAAATTTTATTTTAAATATATTTAAATAATATTATTAAATTAATATTTAAATA\\n',\n",
       "   'stdout': 'T\\n',\n",
       "   'stderr': ''},\n",
       "  {'status': 'Passed',\n",
       "   'exit_code': 0,\n",
       "   'stdin': '92\\nATATTTAAATAATTTTATTAATTATTTAATATTTTTATTATTTAATTTAATTTAAATATATAATATAAAAAATTATAAATTATAAAATAAAT\\n',\n",
       "   'stdout': 'A\\n',\n",
       "   'stderr': ''},\n",
       "  {'status': 'Passed',\n",
       "   'exit_code': 0,\n",
       "   'stdin': '93\\nTTAAAATTTTATAATAAAAAAAATAATAAATTTTATTTAATAATAAATAAAAAAAAAAAATTTTTATTATATTTATATTTTTAAAAATTATAA\\n',\n",
       "   'stdout': 'A\\n',\n",
       "   'stderr': ''},\n",
       "  {'status': 'Passed',\n",
       "   'exit_code': 0,\n",
       "   'stdin': '93\\nTTTATTATTATATTTTTATATTTTATTTTTTAAATTTTATAATTTTTATTTTTTATTTATATTTATTTAAATTTTATATTTATTATATTTTTA\\n',\n",
       "   'stdout': 'T\\n',\n",
       "   'stderr': ''},\n",
       "  {'status': 'Passed',\n",
       "   'exit_code': 0,\n",
       "   'stdin': '96\\nTTTTTTTTTTTTTTTTTTTTTTTTTTTTTTTTTTTTTTTTTTTTTTTTTTTTTTTTTTTTTTTTTTTTTTTTTTTTTTTTTTTTTTTTTTTTTTTT\\n',\n",
       "   'stdout': 'T\\n',\n",
       "   'stderr': ''},\n",
       "  {'status': 'Passed',\n",
       "   'exit_code': 0,\n",
       "   'stdin': '97\\nTTTTTTTTTATTTATTTTTTTATTTTTTTTTATTAAATTTATTTTTTTTTTTTTATTTTTTTATTTTTAATTTTTTTTTATTTTTTATTTTTTTTTT\\n',\n",
       "   'stdout': 'T\\n',\n",
       "   'stderr': ''},\n",
       "  {'status': 'Passed',\n",
       "   'exit_code': 0,\n",
       "   'stdin': '98\\nTTAATATTATATAATTAAAATAATTTATATAAATTAATAATTATTTATAATATATAATAAATAATAATTTATAATAATTTTTATATTTATTATAATTA\\n',\n",
       "   'stdout': 'T\\n',\n",
       "   'stderr': ''},\n",
       "  {'status': 'Passed',\n",
       "   'exit_code': 0,\n",
       "   'stdin': '100\\nAAAAAAAAAAAAAAAAAAAAAAAATTTAAAAATATTATAAAATATAATAATTAAAAAAAAATATTTATTTATAAAATATAAAATAATTAAATATATAATA\\n',\n",
       "   'stdout': 'A\\n',\n",
       "   'stderr': ''}])"
      ]
     },
     "execution_count": 7,
     "metadata": {},
     "output_type": "execute_result"
    }
   ],
   "source": [
    "with open(\"test_sol_ac.cpp\", \"r\") as f:\n",
    "    code = f.read()\n",
    "\n",
    "eval_stdin_stdout(code, inputs, outputs)"
   ]
  },
  {
   "cell_type": "code",
   "execution_count": 8,
   "metadata": {},
   "outputs": [
    {
     "data": {
      "text/plain": [
       "(False,\n",
       " [{'status': 'Passed',\n",
       "   'exit_code': 0,\n",
       "   'stdin': '5\\nTTAAT\\n',\n",
       "   'stdout': 'T\\n',\n",
       "   'stderr': ''},\n",
       "  {'status': 'Wrong Answer',\n",
       "   'exit_code': 0,\n",
       "   'stdout': 'A\\n',\n",
       "   'stderr': '',\n",
       "   'answer': 'T\\n'}])"
      ]
     },
     "execution_count": 8,
     "metadata": {},
     "output_type": "execute_result"
    }
   ],
   "source": [
    "with open(\"test_sol_wa.cpp\", \"r\") as f:\n",
    "    code = f.read()\n",
    "\n",
    "eval_stdin_stdout(code, inputs, outputs)"
   ]
  },
  {
   "cell_type": "code",
   "execution_count": 9,
   "metadata": {},
   "outputs": [
    {
     "data": {
      "text/plain": [
       "(False,\n",
       " [{'status': 'Compilation Error',\n",
       "   'exit_code': 1,\n",
       "   'stdout': '',\n",
       "   'stderr': './tmp/f03f11c2a1ea0dde056c39360a378a48_8LLeXsbUUz.cpp:17:5: error: expected expression\\n    return 0;\\n    ^\\n1 error generated.\\n'}])"
      ]
     },
     "execution_count": 9,
     "metadata": {},
     "output_type": "execute_result"
    }
   ],
   "source": [
    "with open(\"test_sol_ce.cpp\", \"r\") as f:\n",
    "    code = f.read()\n",
    "\n",
    "eval_stdin_stdout(code, inputs, outputs)"
   ]
  },
  {
   "cell_type": "code",
   "execution_count": null,
   "metadata": {},
   "outputs": [],
   "source": []
  }
 ],
 "metadata": {
  "kernelspec": {
   "display_name": "lcbcpp",
   "language": "python",
   "name": "python3"
  },
  "language_info": {
   "codemirror_mode": {
    "name": "ipython",
    "version": 3
   },
   "file_extension": ".py",
   "mimetype": "text/x-python",
   "name": "python",
   "nbconvert_exporter": "python",
   "pygments_lexer": "ipython3",
   "version": "3.10.14"
  }
 },
 "nbformat": 4,
 "nbformat_minor": 2
}
